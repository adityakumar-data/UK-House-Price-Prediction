import pandas as pd

# Step 1: Read the data file
data = pd.read_csv('../data/UK_House_Price_Prediction_dataset_2015_to_2024.csv', sep=',', encoding='utf-8-sig')

# Step 2: Confirm it loaded properly
print("Awesome! The dataset is loaded successfully ")

#  Step 3: Check how big it is (rows & columns)
print(f"The dataset has {data.shape[0]} rows and {data.shape[1]} columns.\n")

#  Step 4: Show the column names so we know what data we’re dealing with
print("Here are the column names:")
print(list(data.columns))

#  Step 5: Peek at the first few records to see what it looks like
data.head()




