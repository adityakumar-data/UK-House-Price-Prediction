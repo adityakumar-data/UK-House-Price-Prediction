import pandas as pd

# Correct path
file_path = '../data/UK_House_Price_Prediction_dataset_2015_to_2024.csv'

# Read with comma separator and UTF-8 encoding
data = pd.read_csv(file_path, sep=',', encoding='utf-8')

# Save the corrected version (optional but recommended)
data.to_csv('../data/UK_House_Price_Prediction_clean.csv', index=False, encoding='utf-8')

print("✅ Dataset loaded successfully!")
print("Shape:", data.shape)
print("Columns:", list(data.columns)[:10])

# Display first few rows
data.head()

